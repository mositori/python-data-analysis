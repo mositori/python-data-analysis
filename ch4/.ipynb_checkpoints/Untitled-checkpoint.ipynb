{
 "cells": [
  {
   "cell_type": "code",
   "execution_count": 115,
   "metadata": {},
   "outputs": [],
   "source": [
    "import numpy as np\n",
    "import matplotlib.pyplot as plt"
   ]
  },
  {
   "cell_type": "code",
   "execution_count": 4,
   "metadata": {},
   "outputs": [],
   "source": [
    "data1 = [1,2,3]\n",
    "data2 = [[1,2,3],[4,5,6]]"
   ]
  },
  {
   "cell_type": "code",
   "execution_count": 5,
   "metadata": {},
   "outputs": [],
   "source": [
    "arr1 = np.array(data1)\n",
    "arr2 = np.array(data2)"
   ]
  },
  {
   "cell_type": "markdown",
   "metadata": {},
   "source": [
    "## 4.1.1 ndarrayの生成\n",
    "### ndim \n",
    "return 配列の次元数\n",
    "\n",
    "### shape\n",
    "return 配列の次元ごとの要素数を格納するタプル\n",
    "\n",
    "### dtype\n",
    "return 要素の型\n",
    "\n",
    "### ndarray生成関数\n",
    "### array\n",
    "省略\n",
    "\n",
    "### asarray\n",
    "arrayと同様だが、入力がndarrayだった場合は新規に変数を生成しない.\n",
    "\n",
    "### zeros, zeros_like\n",
    "指定されたサイズのndarrayを生成し、すべての要素に0を設定する　\n",
    "\n",
    "### ones, ones_like\n",
    "指定されたサイズのndarrayを生成し、すべての要素に1を設定する\n",
    "\n",
    "### empty, empty_like\n",
    "onesと同様にndarrayを生成するが, 各要素は初期化されず不定のまま.\n",
    "=> 配列の領域のみをメモリ上に確保するだけ、値は不明になる.\n",
    "=> 実行速度が高速なため、明示的な初期化が必要ない場面に使う.\n",
    "\n",
    "### arange\n",
    "range関数と同等の動作で、等間隔に増減させた値で要素を満たす\n",
    "\n",
    "### full, full_like\n",
    "指定されたサイズのndarrayを指定されたdtypeで生成, 要素を全て指定された値で埋める.\n",
    "\n",
    "### eye, identity\n",
    "N x Nの単位行列となるndarrayを生成する."
   ]
  },
  {
   "cell_type": "code",
   "execution_count": 22,
   "metadata": {},
   "outputs": [
    {
     "name": "stdout",
     "output_type": "stream",
     "text": [
      "[2.68156159e+154 2.68156159e+154 1.48219694e-323]\n",
      "[ True  True  True]\n",
      "[-2.68156159e+154-2.68156159e+154j  2.47032823e-323+0.00000000e+000j\n",
      "  0.00000000e+000+0.00000000e+000j -2.68156159e+154-2.68156159e+154j]\n"
     ]
    }
   ],
   "source": [
    "print(np.empty(3))\n",
    "print(np.empty(3, dtype= np.bool)) #bool値にもできる\n",
    "print(np.empty(4, dtype= complex)) #複素数にもできる"
   ]
  },
  {
   "cell_type": "markdown",
   "metadata": {},
   "source": [
    "## 4.1.2 ndarrayのデータ型\n",
    "dtypeはndarrayの$データ型$. 以下リスト\n",
    "\n",
    "|型|型コード|説明|\n",
    "|:----|:----|:----|\n",
    "|int8/16/32/64|i1/i2/i4/i8| |\n",
    "|float16/32/64/128| f2/f/d/g| |\n",
    "|complex64/128/256 | c8/c16/c32 |複素数型 |\n",
    "|bool|?||\n",
    "|object|O|Pythonのオブジェクト型|\n",
    "|string_|S||\n",
    "|unicode_|U||\n",
    "\n",
    "### astype\n",
    "dtypeを明示的に型変換する\n",
    "(必ず新規ndarrayが生成されることに注意)"
   ]
  },
  {
   "cell_type": "code",
   "execution_count": 32,
   "metadata": {},
   "outputs": [
    {
     "name": "stdout",
     "output_type": "stream",
     "text": [
      "int64 [0 1 2 3 4 5]\n",
      "float64 [0. 1. 2. 3. 4. 5.]\n",
      "complex64 [0.+0.j 1.+0.j 2.+0.j 3.+0.j 4.+0.j 5.+0.j]\n",
      "bool [False  True  True  True  True  True]\n"
     ]
    }
   ],
   "source": [
    "arr = np.array([0,1,2,3,4,5])\n",
    "print(arr.dtype, arr)\n",
    "arr = arr.astype(np.float64)\n",
    "print(arr.dtype, arr)\n",
    "arr = arr.astype(np.complex64)\n",
    "print(arr.dtype, arr)\n",
    "arr = arr.astype(np.bool)\n",
    "print(arr.dtype, arr)"
   ]
  },
  {
   "cell_type": "markdown",
   "metadata": {},
   "source": [
    "## 4.1.3 ndarrayの算術演算\n",
    "ndarray間を比較した時、その結果は同要素数の真偽値配列として戻される.\n",
    "サイズの異なるndarray同士の演算は**ブロードキャスト**と呼ばれる"
   ]
  },
  {
   "cell_type": "code",
   "execution_count": 48,
   "metadata": {},
   "outputs": [
    {
     "data": {
      "text/plain": [
       "array([ True, False,  True, False])"
      ]
     },
     "execution_count": 48,
     "metadata": {},
     "output_type": "execute_result"
    }
   ],
   "source": [
    "arr1 = np.array([1,2,3,4])\n",
    "arr2 = np.array([2,1,4,3])\n",
    "\n",
    "arr1 < arr2"
   ]
  },
  {
   "cell_type": "markdown",
   "metadata": {},
   "source": [
    "## 4.1.4 インデックス参照とスライシングの基礎\n",
    "### 一次次元の場合"
   ]
  },
  {
   "cell_type": "code",
   "execution_count": 49,
   "metadata": {},
   "outputs": [
    {
     "name": "stdout",
     "output_type": "stream",
     "text": [
      "[0 1 2 3 4 5 6 7 8 9]\n"
     ]
    }
   ],
   "source": [
    "arr = np.arange(10)\n",
    "print(arr)"
   ]
  },
  {
   "cell_type": "code",
   "execution_count": 50,
   "metadata": {},
   "outputs": [
    {
     "data": {
      "text/plain": [
       "4"
      ]
     },
     "execution_count": 50,
     "metadata": {},
     "output_type": "execute_result"
    }
   ],
   "source": [
    "arr[4]"
   ]
  },
  {
   "cell_type": "code",
   "execution_count": 51,
   "metadata": {},
   "outputs": [
    {
     "data": {
      "text/plain": [
       "array([4, 5, 6, 7])"
      ]
     },
     "execution_count": 51,
     "metadata": {},
     "output_type": "execute_result"
    }
   ],
   "source": [
    "arr[4:8]"
   ]
  },
  {
   "cell_type": "code",
   "execution_count": 53,
   "metadata": {},
   "outputs": [
    {
     "name": "stdout",
     "output_type": "stream",
     "text": [
      "[ 0  1  2  3 12 12 12 12  8  9]\n"
     ]
    }
   ],
   "source": [
    "arr[4:8] = 12\n",
    "print(arr)"
   ]
  },
  {
   "cell_type": "markdown",
   "metadata": {},
   "source": [
    "リストと異なり, ndarrayのスライシングは切り出された元のndarrayの**ビュー**であり、値の変更はオリジナルに反映される.(**ブロードキャスト**)"
   ]
  },
  {
   "cell_type": "code",
   "execution_count": 57,
   "metadata": {},
   "outputs": [
    {
     "name": "stdout",
     "output_type": "stream",
     "text": [
      "[8 9]\n"
     ]
    }
   ],
   "source": [
    "arr_slice = arr[8:10]\n",
    "print(arr_slice)"
   ]
  },
  {
   "cell_type": "code",
   "execution_count": 58,
   "metadata": {},
   "outputs": [
    {
     "name": "stdout",
     "output_type": "stream",
     "text": [
      "[  0   1   2   3  12  12  12  12   8 114] [  8 114]\n"
     ]
    }
   ],
   "source": [
    "arr_slice[1] = 114\n",
    "print(arr, arr_slice)"
   ]
  },
  {
   "cell_type": "markdown",
   "metadata": {},
   "source": [
    "ビューではなくコピーにしたい場合は明示的にcopy()をつける"
   ]
  },
  {
   "cell_type": "code",
   "execution_count": 61,
   "metadata": {},
   "outputs": [
    {
     "name": "stdout",
     "output_type": "stream",
     "text": [
      "[ 0  1  2  3 12 12]\n"
     ]
    }
   ],
   "source": [
    "arr_slice_copy = arr[0:6].copy() \n",
    "print(arr_slice_copy)"
   ]
  },
  {
   "cell_type": "code",
   "execution_count": 65,
   "metadata": {},
   "outputs": [
    {
     "name": "stdout",
     "output_type": "stream",
     "text": [
      "[  0   1   2   3  12  12  12  12   8 114] [0 0 0 0 0 0]\n"
     ]
    }
   ],
   "source": [
    "arr_slice_copy[:] = 0\n",
    "print(arr, arr_slice_copy)"
   ]
  },
  {
   "cell_type": "markdown",
   "metadata": {},
   "source": [
    "### N次元の場合\n",
    "インデックス参照の手段が増える.\n",
    "\n",
    "N = 2の場合, arr2d[0][1] または arr2d[0,1]で参照できる"
   ]
  },
  {
   "cell_type": "markdown",
   "metadata": {},
   "source": [
    "## ブールインデックス参照\n",
    "参照されたndarrayはコピーされたものであることに注意"
   ]
  },
  {
   "cell_type": "code",
   "execution_count": 66,
   "metadata": {},
   "outputs": [],
   "source": [
    "names = np.array(['Bob', 'Joe', 'Will', 'Bob', 'Will', 'Joe', 'Joe'])\n",
    "data = np.random.randn(7,4)"
   ]
  },
  {
   "cell_type": "code",
   "execution_count": 67,
   "metadata": {},
   "outputs": [
    {
     "data": {
      "text/plain": [
       "array(['Bob', 'Joe', 'Will', 'Bob', 'Will', 'Joe', 'Joe'], dtype='<U4')"
      ]
     },
     "execution_count": 67,
     "metadata": {},
     "output_type": "execute_result"
    }
   ],
   "source": [
    "names"
   ]
  },
  {
   "cell_type": "code",
   "execution_count": 68,
   "metadata": {},
   "outputs": [
    {
     "data": {
      "text/plain": [
       "array([[-0.26137137, -0.27578319,  0.58236428, -0.63574719],\n",
       "       [ 0.66365135,  0.56309523,  0.15481779,  0.05725008],\n",
       "       [ 0.24389413,  1.51016652,  1.12187462,  0.09847997],\n",
       "       [-0.66903941, -0.76626678, -0.40104834,  1.45914701],\n",
       "       [-1.96764149, -0.16878813,  0.68619478, -1.04238164],\n",
       "       [ 0.15220784,  1.5688388 , -0.56420524, -0.88325396],\n",
       "       [-0.21069243, -0.84428861,  1.00826331,  0.08022791]])"
      ]
     },
     "execution_count": 68,
     "metadata": {},
     "output_type": "execute_result"
    }
   ],
   "source": [
    "data"
   ]
  },
  {
   "cell_type": "markdown",
   "metadata": {},
   "source": [
    "dataから'Bob'に対応する行を抜き出す"
   ]
  },
  {
   "cell_type": "code",
   "execution_count": 69,
   "metadata": {},
   "outputs": [
    {
     "data": {
      "text/plain": [
       "array([ True, False, False,  True, False, False, False])"
      ]
     },
     "execution_count": 69,
     "metadata": {},
     "output_type": "execute_result"
    }
   ],
   "source": [
    "names == 'Bob'"
   ]
  },
  {
   "cell_type": "code",
   "execution_count": 70,
   "metadata": {},
   "outputs": [
    {
     "data": {
      "text/plain": [
       "array([[-0.26137137, -0.27578319,  0.58236428, -0.63574719],\n",
       "       [-0.66903941, -0.76626678, -0.40104834,  1.45914701]])"
      ]
     },
     "execution_count": 70,
     "metadata": {},
     "output_type": "execute_result"
    }
   ],
   "source": [
    "data[ names == 'Bob' ]"
   ]
  },
  {
   "cell_type": "markdown",
   "metadata": {},
   "source": [
    "列のスライスも同時に指定"
   ]
  },
  {
   "cell_type": "code",
   "execution_count": 71,
   "metadata": {},
   "outputs": [
    {
     "data": {
      "text/plain": [
       "array([[ 0.58236428, -0.63574719],\n",
       "       [-0.40104834,  1.45914701]])"
      ]
     },
     "execution_count": 71,
     "metadata": {},
     "output_type": "execute_result"
    }
   ],
   "source": [
    "data[names == 'Bob', 2:]"
   ]
  },
  {
   "cell_type": "code",
   "execution_count": 72,
   "metadata": {},
   "outputs": [
    {
     "data": {
      "text/plain": [
       "array([-0.63574719,  1.45914701])"
      ]
     },
     "execution_count": 72,
     "metadata": {},
     "output_type": "execute_result"
    }
   ],
   "source": [
    "data[names == 'Bob',3]"
   ]
  },
  {
   "cell_type": "code",
   "execution_count": 73,
   "metadata": {},
   "outputs": [
    {
     "data": {
      "text/plain": [
       "array([-0.26137137, -0.27578319, -0.63574719, -0.66903941, -0.76626678,\n",
       "       -0.40104834, -1.96764149, -0.16878813, -1.04238164, -0.56420524,\n",
       "       -0.88325396, -0.21069243, -0.84428861])"
      ]
     },
     "execution_count": 73,
     "metadata": {},
     "output_type": "execute_result"
    }
   ],
   "source": [
    "data[data < 0]"
   ]
  },
  {
   "cell_type": "code",
   "execution_count": 75,
   "metadata": {},
   "outputs": [
    {
     "name": "stdout",
     "output_type": "stream",
     "text": [
      "[[0.         0.         0.58236428 0.        ]\n",
      " [0.66365135 0.56309523 0.15481779 0.05725008]\n",
      " [0.24389413 1.51016652 1.12187462 0.09847997]\n",
      " [0.         0.         0.         1.45914701]\n",
      " [0.         0.         0.68619478 0.        ]\n",
      " [0.15220784 1.5688388  0.         0.        ]\n",
      " [0.         0.         1.00826331 0.08022791]]\n"
     ]
    }
   ],
   "source": [
    "data[data < 0 ] = 0\n",
    "print(data)"
   ]
  },
  {
   "cell_type": "markdown",
   "metadata": {},
   "source": [
    "## 4.1.6 ファンシーインデックス参照\n",
    "インデックス参照に整数配列を用いる方法のこと\n",
    "\n",
    "arr からある特定の順序で行を抽出するには、その順番を示す**整数のリスト**あるいは**ndarray**をインデックス参照として渡す.\n",
    "\n",
    "この参照の場合は必ず**一次元配列として返される**"
   ]
  },
  {
   "cell_type": "code",
   "execution_count": 77,
   "metadata": {},
   "outputs": [
    {
     "name": "stdout",
     "output_type": "stream",
     "text": [
      "[[0. 0. 0. 0.]\n",
      " [1. 1. 1. 1.]\n",
      " [2. 2. 2. 2.]\n",
      " [3. 3. 3. 3.]\n",
      " [4. 4. 4. 4.]\n",
      " [5. 5. 5. 5.]\n",
      " [6. 6. 6. 6.]\n",
      " [7. 7. 7. 7.]]\n"
     ]
    }
   ],
   "source": [
    "arr = np.empty((8,4))\n",
    "for i in range(8):\n",
    "    arr[i] = i\n",
    "print(arr)"
   ]
  },
  {
   "cell_type": "code",
   "execution_count": 78,
   "metadata": {},
   "outputs": [
    {
     "data": {
      "text/plain": [
       "array([[4., 4., 4., 4.],\n",
       "       [3., 3., 3., 3.],\n",
       "       [0., 0., 0., 0.],\n",
       "       [6., 6., 6., 6.]])"
      ]
     },
     "execution_count": 78,
     "metadata": {},
     "output_type": "execute_result"
    }
   ],
   "source": [
    "arr[[4,3,0,6]]"
   ]
  },
  {
   "cell_type": "code",
   "execution_count": 79,
   "metadata": {},
   "outputs": [
    {
     "data": {
      "text/plain": [
       "array([[5., 5., 5., 5.],\n",
       "       [3., 3., 3., 3.],\n",
       "       [1., 1., 1., 1.]])"
      ]
     },
     "execution_count": 79,
     "metadata": {},
     "output_type": "execute_result"
    }
   ],
   "source": [
    "arr[[-3,-5,-7]]"
   ]
  },
  {
   "cell_type": "code",
   "execution_count": 81,
   "metadata": {},
   "outputs": [
    {
     "name": "stdout",
     "output_type": "stream",
     "text": [
      "[[ 0  1  2  3]\n",
      " [ 4  5  6  7]\n",
      " [ 8  9 10 11]\n",
      " [12 13 14 15]\n",
      " [16 17 18 19]\n",
      " [20 21 22 23]\n",
      " [24 25 26 27]\n",
      " [28 29 30 31]]\n"
     ]
    }
   ],
   "source": [
    "arr = np.arange(32).reshape((8,4))\n",
    "print(arr)"
   ]
  },
  {
   "cell_type": "code",
   "execution_count": 82,
   "metadata": {},
   "outputs": [
    {
     "data": {
      "text/plain": [
       "array([ 4, 23, 29, 10])"
      ]
     },
     "execution_count": 82,
     "metadata": {},
     "output_type": "execute_result"
    }
   ],
   "source": [
    "arr[[1,5,7,2],[0,3,1,2]]"
   ]
  },
  {
   "cell_type": "code",
   "execution_count": 83,
   "metadata": {},
   "outputs": [
    {
     "data": {
      "text/plain": [
       "array([[ 4,  7,  5,  6],\n",
       "       [20, 23, 21, 22],\n",
       "       [ 8, 11,  9, 10],\n",
       "       [28, 31, 29, 30]])"
      ]
     },
     "execution_count": 83,
     "metadata": {},
     "output_type": "execute_result"
    }
   ],
   "source": [
    "arr[[1,5,2,7]][:,[0,3,1,2]]"
   ]
  },
  {
   "cell_type": "markdown",
   "metadata": {},
   "source": [
    "## 4.1.7 転置行列\n",
    "ndarrayの転置は、オリジナル行列を再構成した特別なビューを戻す.コピーは生成しない.\n",
    "\n",
    "方法\n",
    "1. transpose関数\n",
    "2. Tを参照\n",
    "3. swapaxes関数\n",
    "\n",
    "a.swapaxes(axis1, axis2)\n",
    "\n",
    "Return a view of the array with `axis1` and `axis2` interchanged."
   ]
  },
  {
   "cell_type": "code",
   "execution_count": 85,
   "metadata": {},
   "outputs": [
    {
     "name": "stdout",
     "output_type": "stream",
     "text": [
      "[[ 0  1  2  3  4]\n",
      " [ 5  6  7  8  9]\n",
      " [10 11 12 13 14]]\n"
     ]
    }
   ],
   "source": [
    "arr = np.arange(15).reshape((3,5))\n",
    "print(arr)"
   ]
  },
  {
   "cell_type": "code",
   "execution_count": 86,
   "metadata": {},
   "outputs": [
    {
     "data": {
      "text/plain": [
       "array([[ 0,  5, 10],\n",
       "       [ 1,  6, 11],\n",
       "       [ 2,  7, 12],\n",
       "       [ 3,  8, 13],\n",
       "       [ 4,  9, 14]])"
      ]
     },
     "execution_count": 86,
     "metadata": {},
     "output_type": "execute_result"
    }
   ],
   "source": [
    "arr.T"
   ]
  },
  {
   "cell_type": "code",
   "execution_count": 87,
   "metadata": {},
   "outputs": [
    {
     "name": "stdout",
     "output_type": "stream",
     "text": [
      "[[-0.36643434 -1.01681266 -0.71117774]\n",
      " [-2.01407877  0.68183995 -0.05359618]\n",
      " [-0.02202998 -1.90519697 -0.29148443]\n",
      " [-0.3080216  -0.4280681   0.15453725]\n",
      " [ 1.06834786 -0.33393087  1.30559478]\n",
      " [ 0.24735576 -1.27556379  1.0120655 ]]\n"
     ]
    }
   ],
   "source": [
    "arr = np.random.randn(6,3)\n",
    "print(arr)"
   ]
  },
  {
   "cell_type": "code",
   "execution_count": 88,
   "metadata": {},
   "outputs": [
    {
     "data": {
      "text/plain": [
       "array([[ 5.48870206, -1.49913101,  1.97253708],\n",
       "       [-1.49913101,  7.05040432, -0.5511592 ],\n",
       "       [ 1.97253708, -0.5511592 ,  3.34634556]])"
      ]
     },
     "execution_count": 88,
     "metadata": {},
     "output_type": "execute_result"
    }
   ],
   "source": [
    "np.dot(arr.T, arr)"
   ]
  },
  {
   "cell_type": "markdown",
   "metadata": {},
   "source": [
    "高次元の場合,transposeの引数に軸の順序を与えることで入れ替えが可能."
   ]
  },
  {
   "cell_type": "code",
   "execution_count": 91,
   "metadata": {},
   "outputs": [
    {
     "name": "stdout",
     "output_type": "stream",
     "text": [
      "[[[ 0  1  2  3]\n",
      "  [ 4  5  6  7]]\n",
      "\n",
      " [[ 8  9 10 11]\n",
      "  [12 13 14 15]]]\n"
     ]
    }
   ],
   "source": [
    "arr = np.arange(16).reshape((2,2,4))\n",
    "print(arr)"
   ]
  },
  {
   "cell_type": "markdown",
   "metadata": {},
   "source": [
    "2番目の軸が先頭、1番目の軸が2番目, 三番目の軸はそのまま"
   ]
  },
  {
   "cell_type": "code",
   "execution_count": 93,
   "metadata": {},
   "outputs": [
    {
     "data": {
      "text/plain": [
       "array([[[ 0,  1,  2,  3],\n",
       "        [ 8,  9, 10, 11]],\n",
       "\n",
       "       [[ 4,  5,  6,  7],\n",
       "        [12, 13, 14, 15]]])"
      ]
     },
     "execution_count": 93,
     "metadata": {},
     "output_type": "execute_result"
    }
   ],
   "source": [
    "arr.transpose((1,0,2))"
   ]
  },
  {
   "cell_type": "code",
   "execution_count": 96,
   "metadata": {},
   "outputs": [
    {
     "data": {
      "text/plain": [
       "array([[[ 0,  4],\n",
       "        [ 1,  5],\n",
       "        [ 2,  6],\n",
       "        [ 3,  7]],\n",
       "\n",
       "       [[ 8, 12],\n",
       "        [ 9, 13],\n",
       "        [10, 14],\n",
       "        [11, 15]]])"
      ]
     },
     "execution_count": 96,
     "metadata": {},
     "output_type": "execute_result"
    }
   ],
   "source": [
    "arr.swapaxes(1,2)"
   ]
  },
  {
   "cell_type": "markdown",
   "metadata": {},
   "source": [
    "# 4.2 ユニバーサル関数\n",
    "ndarrayを対象に, 要素ごとの操作結果を戻す関数.\n",
    "\n",
    "- 単項ufunc\n",
    "\n",
    "|Function|Description|\n",
    "|:--|:--|\n",
    "|abs, fabs|絶対値計算, fabsは整数と小数のみ(高速)|\n",
    "| sqrt | 平方根 |\n",
    "| square | 二乗 |\n",
    "| exp | 指数 |\n",
    "| log, log10, log2, log1p| 1pは各要素に1を加えた数を真数として底eの対数計算 |\n",
    "| sign | 各要素の符号を返す 正=>1, 0 => 0, 負=>-1 |\n",
    "| ceil | 切り上げ |\n",
    "| floor | 切り下げ |\n",
    "| rint | 各要素の丸め値 |\n",
    "| modf | 整数部分と小数部分に分割, 2つの配列を返す |\n",
    "| isnan | NaNの真偽値配列 |\n",
    "| isfinite, isinf | isfiniteは有限かどうか, isinfは無限かどうか |\n",
    "| 三角関数及び逆散策関数|　|\n",
    "| logiical_not | ~arrと同等 |\n",
    "    \n",
    "- 二項ufunc\n",
    "\n",
    "|Function|Description|\n",
    "|:--|:--|\n",
    "| add/subtract/multiply/divide | 省略 |\n",
    "| floor_divide | あまりを切り捨て |\n",
    "| power | arr1を底, arr2要素でべき乗 |\n",
    "| maximum/fmax | 配列の要素ごとの最大値を計算 maximumはNaNを選ぶ|\n",
    "| minimum/fmin | |\n",
    "| mod | 余剰計算 |\n",
    "| copysign | arr1の値に,arr2の配列要素の符号をつける |"
   ]
  },
  {
   "cell_type": "code",
   "execution_count": 102,
   "metadata": {},
   "outputs": [
    {
     "name": "stdout",
     "output_type": "stream",
     "text": [
      "[0.         1.         1.41421356 1.73205081 2.         2.23606798\n",
      " 2.44948974 2.64575131 2.82842712 3.        ]\n",
      "[1.00000000e+00 2.71828183e+00 7.38905610e+00 2.00855369e+01\n",
      " 5.45981500e+01 1.48413159e+02 4.03428793e+02 1.09663316e+03\n",
      " 2.98095799e+03 8.10308393e+03]\n"
     ]
    }
   ],
   "source": [
    "arr = np.arange(10)\n",
    "print(np.sqrt(arr))\n",
    "print(np.exp(arr))"
   ]
  },
  {
   "cell_type": "code",
   "execution_count": 106,
   "metadata": {},
   "outputs": [
    {
     "data": {
      "text/plain": [
       "array([[        1,         1,         4,        27,       256],\n",
       "       [     3125,     46656,    823543,  16777216, 387420489]])"
      ]
     },
     "execution_count": 106,
     "metadata": {},
     "output_type": "execute_result"
    }
   ],
   "source": [
    "arr1 = np.arange(10).reshape((2,5))\n",
    "arr2 = arr1\n",
    "np.power(arr1 ,arr2)"
   ]
  },
  {
   "cell_type": "markdown",
   "metadata": {},
   "source": [
    "# ndarrayによる配列指向プログラミング\n",
    "関数`sqrt(x^2 + y^2)`の取る値を図示する\n",
    "\n",
    "- meshgrid関数 : 2つの１次元配列を取り、それぞれの要素のすべての組み合わせを列挙する."
   ]
  },
  {
   "cell_type": "code",
   "execution_count": 107,
   "metadata": {},
   "outputs": [],
   "source": [
    "points = np.arange(-5,5,0.01)\n",
    "xs, ys = np.meshgrid(points, points)"
   ]
  },
  {
   "cell_type": "code",
   "execution_count": 108,
   "metadata": {},
   "outputs": [
    {
     "data": {
      "text/plain": [
       "array([[-5.  , -5.  , -5.  , ..., -5.  , -5.  , -5.  ],\n",
       "       [-4.99, -4.99, -4.99, ..., -4.99, -4.99, -4.99],\n",
       "       [-4.98, -4.98, -4.98, ..., -4.98, -4.98, -4.98],\n",
       "       ...,\n",
       "       [ 4.97,  4.97,  4.97, ...,  4.97,  4.97,  4.97],\n",
       "       [ 4.98,  4.98,  4.98, ...,  4.98,  4.98,  4.98],\n",
       "       [ 4.99,  4.99,  4.99, ...,  4.99,  4.99,  4.99]])"
      ]
     },
     "execution_count": 108,
     "metadata": {},
     "output_type": "execute_result"
    }
   ],
   "source": [
    "ys"
   ]
  },
  {
   "cell_type": "code",
   "execution_count": 113,
   "metadata": {},
   "outputs": [
    {
     "data": {
      "text/plain": [
       "array([[7.07106781, 7.06400028, 7.05693985, ..., 7.04988652, 7.05693985,\n",
       "        7.06400028],\n",
       "       [7.06400028, 7.05692568, 7.04985815, ..., 7.04279774, 7.04985815,\n",
       "        7.05692568],\n",
       "       [7.05693985, 7.04985815, 7.04278354, ..., 7.03571603, 7.04278354,\n",
       "        7.04985815],\n",
       "       ...,\n",
       "       [7.04988652, 7.04279774, 7.03571603, ..., 7.0286414 , 7.03571603,\n",
       "        7.04279774],\n",
       "       [7.05693985, 7.04985815, 7.04278354, ..., 7.03571603, 7.04278354,\n",
       "        7.04985815],\n",
       "       [7.06400028, 7.05692568, 7.04985815, ..., 7.04279774, 7.04985815,\n",
       "        7.05692568]])"
      ]
     },
     "execution_count": 113,
     "metadata": {},
     "output_type": "execute_result"
    }
   ],
   "source": [
    "z = np.sqrt(xs ** 2 + ys ** 2)\n",
    "z"
   ]
  },
  {
   "cell_type": "code",
   "execution_count": 116,
   "metadata": {},
   "outputs": [
    {
     "data": {
      "text/plain": [
       "<matplotlib.colorbar.Colorbar at 0x11ca977f0>"
      ]
     },
     "execution_count": 116,
     "metadata": {},
     "output_type": "execute_result"
    },
    {
     "data": {
      "image/png": "[encoded data removed]",
      "text/plain": [
       "<Figure size 432x288 with 2 Axes>"
      ]
     },
     "metadata": {
      "needs_background": "light"
     },
     "output_type": "display_data"
    }
   ],
   "source": [
    "plt.imshow(z, cmap=plt.cm.gray); plt.colorbar()"
   ]
  },
  {
   "cell_type": "markdown",
   "metadata": {},
   "source": [
    "## 4.3.1 条件制御のndarray\n",
    "`numpy.where` で三項演算子を使用できる\n",
    "\n",
    "`where(condition, arr1, arr2)`\n",
    "conditionがTrueのときarr1"
   ]
  },
  {
   "cell_type": "code",
   "execution_count": 118,
   "metadata": {},
   "outputs": [],
   "source": [
    "xarr = np.array([1.1, 1.2, 1.3, 1.4, 1.5])\n",
    "yarr = np.array([2.1, 2.2, 2.3, 2.4, 2.5])\n",
    "cond = np.array([True, False, True, True, False])"
   ]
  },
  {
   "cell_type": "code",
   "execution_count": 121,
   "metadata": {},
   "outputs": [
    {
     "name": "stdout",
     "output_type": "stream",
     "text": [
      "[1.1, 2.2, 1.3, 1.4, 2.5]\n"
     ]
    }
   ],
   "source": [
    "result = [(x if c else y) for x, y, c in zip(xarr, yarr, cond)]\n",
    "print(result)"
   ]
  },
  {
   "cell_type": "code",
   "execution_count": 123,
   "metadata": {},
   "outputs": [
    {
     "name": "stdout",
     "output_type": "stream",
     "text": [
      "[1.1 2.2 1.3 1.4 2.5]\n"
     ]
    }
   ],
   "source": [
    "result = np.where(cond, xarr, yarr)\n",
    "print(result)"
   ]
  },
  {
   "cell_type": "code",
   "execution_count": 126,
   "metadata": {},
   "outputs": [
    {
     "name": "stdout",
     "output_type": "stream",
     "text": [
      "[[ 0.1980626   1.7730123  -2.23537645  0.53795526]\n",
      " [ 0.36917791 -0.34584639 -1.12075853  0.63415748]\n",
      " [ 0.03271941  0.04997995  0.30481088  0.06236752]\n",
      " [ 0.638945    1.48684436  0.82869448  0.45485781]]\n"
     ]
    },
    {
     "data": {
      "text/plain": [
       "array([[ 2,  2, -2,  2],\n",
       "       [ 2, -2, -2,  2],\n",
       "       [ 2,  2,  2,  2],\n",
       "       [ 2,  2,  2,  2]])"
      ]
     },
     "execution_count": 126,
     "metadata": {},
     "output_type": "execute_result"
    }
   ],
   "source": [
    "arr = np.random.randn(4,4)\n",
    "print(arr)\n",
    "\n",
    "np.where(arr > 0, 2, -2)"
   ]
  },
  {
   "cell_type": "code",
   "execution_count": 130,
   "metadata": {},
   "outputs": [
    {
     "data": {
      "text/plain": [
       "array([[ 2.        ,  2.        , -2.23537645,  2.        ],\n",
       "       [ 2.        , -0.34584639, -1.12075853,  2.        ],\n",
       "       [ 2.        ,  2.        ,  2.        ,  2.        ],\n",
       "       [ 2.        ,  2.        ,  2.        ,  2.        ]])"
      ]
     },
     "execution_count": 130,
     "metadata": {},
     "output_type": "execute_result"
    }
   ],
   "source": [
    "np.where(arr> 0, 2, arr)"
   ]
  },
  {
   "cell_type": "markdown",
   "metadata": {},
   "source": [
    "## 4.3.2 数学関数, 統計関数\n",
    "- mean\n",
    "    - np.mean(arr)\n",
    "    - arr.mean()\n",
    "- sum\n",
    "- cumsum : 累積和\n",
    "- cumprod : 累積積\n",
    "- std, var\n",
    "- min, max\n",
    "- argmin, argmax"
   ]
  },
  {
   "cell_type": "code",
   "execution_count": 131,
   "metadata": {},
   "outputs": [],
   "source": [
    "arr = np.random.randn(5,4)"
   ]
  },
  {
   "cell_type": "code",
   "execution_count": 132,
   "metadata": {},
   "outputs": [
    {
     "data": {
      "text/plain": [
       "array([[ 1.32030736, -1.04781542,  0.99928046, -0.62826873],\n",
       "       [-0.38663149,  0.94359963, -0.15183966,  0.19876312],\n",
       "       [-0.70345624, -3.18812206,  1.01596838, -0.00683191],\n",
       "       [ 1.49352944,  0.08911139,  0.24766447, -0.22130452],\n",
       "       [ 0.5376884 ,  0.2256541 ,  1.39558666, -0.33758904]])"
      ]
     },
     "execution_count": 132,
     "metadata": {},
     "output_type": "execute_result"
    }
   ],
   "source": [
    "arr"
   ]
  },
  {
   "cell_type": "code",
   "execution_count": 139,
   "metadata": {},
   "outputs": [
    {
     "name": "stdout",
     "output_type": "stream",
     "text": [
      "0.08976471700492769\n",
      "0.08976471700492769\n",
      "[ 0.16087592  0.1509729  -0.72061046  0.40225019  0.45533503]\n",
      "[ 0.16087592  0.1509729  -0.72061046  0.40225019  0.45533503]\n"
     ]
    }
   ],
   "source": [
    "print(arr.mean())\n",
    "print(np.mean(arr))\n",
    "print(arr.mean(axis = 1))\n",
    "print(arr.mean(1))\n"
   ]
  },
  {
   "cell_type": "code",
   "execution_count": 142,
   "metadata": {},
   "outputs": [
    {
     "name": "stdout",
     "output_type": "stream",
     "text": [
      "1.795294340098554\n",
      "1.795294340098554\n",
      "[ 0.64350367  0.6038916  -2.88244183  1.60900078  1.82134012]\n",
      "[ 0.64350367  0.6038916  -2.88244183  1.60900078  1.82134012]\n"
     ]
    }
   ],
   "source": [
    "print(arr.sum())\n",
    "print(np.sum(arr))\n",
    "print(arr.sum(axis=1))\n",
    "print(arr.sum(1))"
   ]
  },
  {
   "cell_type": "code",
   "execution_count": 149,
   "metadata": {},
   "outputs": [
    {
     "name": "stdout",
     "output_type": "stream",
     "text": [
      "[1 2 3 4 5 6 7]\n",
      "[ 1  3  6 10 15 21 28]\n",
      "[   1    2    6   24  120  720 5040]\n"
     ]
    }
   ],
   "source": [
    "arr2 = np.arange(1,8)\n",
    "print(arr2)\n",
    "print(arr2.cumsum())\n",
    "print(arr2.cumprod())"
   ]
  },
  {
   "cell_type": "markdown",
   "metadata": {},
   "source": [
    "## 4.3.3 真偽値配列関数\n",
    "sumを用いて真偽値配列中のTruwの数を数えられる.\n",
    "\n",
    "- any : 一つでもTrueがあるかどうか\n",
    "- all : 全てがTrueかどうか"
   ]
  },
  {
   "cell_type": "code",
   "execution_count": 150,
   "metadata": {},
   "outputs": [
    {
     "name": "stdout",
     "output_type": "stream",
     "text": [
      "True\n",
      "False\n"
     ]
    }
   ],
   "source": [
    "bools = np.array([False, True, False, False])\n",
    "print(bools.any())\n",
    "print(bools.all())"
   ]
  },
  {
   "cell_type": "markdown",
   "metadata": {},
   "source": [
    "## 4.3.4 ソート"
   ]
  },
  {
   "cell_type": "code",
   "execution_count": 156,
   "metadata": {},
   "outputs": [
    {
     "data": {
      "text/plain": [
       "array([ 0.49374697, -1.00174431,  0.90020577, -1.001182  ,  0.33289737,\n",
       "       -1.54469615])"
      ]
     },
     "execution_count": 156,
     "metadata": {},
     "output_type": "execute_result"
    }
   ],
   "source": [
    "arr = np.random.randn(6)\n",
    "arr"
   ]
  },
  {
   "cell_type": "code",
   "execution_count": 157,
   "metadata": {},
   "outputs": [
    {
     "data": {
      "text/plain": [
       "array([-1.54469615, -1.00174431, -1.001182  ,  0.33289737,  0.49374697,\n",
       "        0.90020577])"
      ]
     },
     "execution_count": 157,
     "metadata": {},
     "output_type": "execute_result"
    }
   ],
   "source": [
    "arr.sort()\n",
    "arr"
   ]
  },
  {
   "cell_type": "code",
   "execution_count": 158,
   "metadata": {},
   "outputs": [
    {
     "data": {
      "text/plain": [
       "array([[-0.71581976, -0.91485274,  0.67362867, -0.45397188,  0.1581042 ],\n",
       "       [-2.29410531,  1.07340807,  0.22064991,  1.62665158, -0.3119703 ],\n",
       "       [ 0.06520115,  0.02900563, -1.28787243, -0.53316918,  0.60406057],\n",
       "       [-0.42531457, -0.10624051, -0.72202027, -0.31787743, -0.32704082],\n",
       "       [-1.3889256 ,  1.92326698,  0.87141736,  0.36074321, -0.75852841]])"
      ]
     },
     "execution_count": 158,
     "metadata": {},
     "output_type": "execute_result"
    }
   ],
   "source": [
    "arr = np.random.randn(5,5)\n",
    "arr"
   ]
  },
  {
   "cell_type": "code",
   "execution_count": 160,
   "metadata": {},
   "outputs": [
    {
     "data": {
      "text/plain": [
       "array([[-0.91485274, -0.71581976, -0.45397188,  0.1581042 ,  0.67362867],\n",
       "       [-2.29410531, -0.3119703 ,  0.22064991,  1.07340807,  1.62665158],\n",
       "       [-1.28787243, -0.53316918,  0.02900563,  0.06520115,  0.60406057],\n",
       "       [-0.72202027, -0.42531457, -0.32704082, -0.31787743, -0.10624051],\n",
       "       [-1.3889256 , -0.75852841,  0.36074321,  0.87141736,  1.92326698]])"
      ]
     },
     "execution_count": 160,
     "metadata": {},
     "output_type": "execute_result"
    }
   ],
   "source": [
    "arr.sort(1)\n",
    "arr"
   ]
  },
  {
   "cell_type": "markdown",
   "metadata": {},
   "source": [
    "５パーセンタイル分位点を求める."
   ]
  },
  {
   "cell_type": "code",
   "execution_count": 167,
   "metadata": {},
   "outputs": [],
   "source": [
    "large_arr = np.random.randn(1000)\n",
    "large_arr.sort()"
   ]
  },
  {
   "cell_type": "code",
   "execution_count": 168,
   "metadata": {},
   "outputs": [
    {
     "data": {
      "text/plain": [
       "-1.5478161164115665"
      ]
     },
     "execution_count": 168,
     "metadata": {},
     "output_type": "execute_result"
    }
   ],
   "source": [
    "large_arr[int(0.05 * len(large_arr))]"
   ]
  },
  {
   "cell_type": "markdown",
   "metadata": {},
   "source": [
    "## 4.3.5 集合関数\n",
    "|Function|Description|\n",
    "|:--|:--|\n",
    "|unique(x)|配列xに対し、**重複除外**してソート|\n",
    "|intersect1d(x ,y)| xとyのうち、共通する要素を取り出しソート |\n",
    "| union1d(x, y) | xとyのうち、少なくとも一方に存在する要素を取りだしソート |\n",
    "| in1d(x, y) | xにyの要素群が含まれているか判別 |\n",
    "| setdiff1d(x,  y) | xからyに存在する要素を取り除きソート |\n",
    "| setxor1d(x, y) | xとyのうち、どちらか一方にのみ存在する要素を取り出しソート |"
   ]
  },
  {
   "cell_type": "code",
   "execution_count": 181,
   "metadata": {},
   "outputs": [
    {
     "name": "stdout",
     "output_type": "stream",
     "text": [
      "[13  8  4 13  4 18 13  7 14  6 13  5 14  7  1  7  0  2  5  3] [ 0  3  9 14 11 19  9 12 18 16 18  5 11 18  2 10 11  6 17  5]\n"
     ]
    }
   ],
   "source": [
    "xarr = np.random.randint(20, size=20)\n",
    "yarr = np.random.randint(20, size=20)\n",
    "print(xarr, yarr)"
   ]
  },
  {
   "cell_type": "code",
   "execution_count": 188,
   "metadata": {},
   "outputs": [
    {
     "name": "stdout",
     "output_type": "stream",
     "text": [
      "[ 0  1  2  3  4  4  5  5  6  7  7  7  8 13 13 13 13 14 14 18] [ 0  2  3  5  5  6  9  9 10 11 11 11 12 14 16 17 18 18 18 19]\n"
     ]
    }
   ],
   "source": [
    "xarr.sort()\n",
    "yarr.sort()\n",
    "print(xarr, yarr)"
   ]
  },
  {
   "cell_type": "code",
   "execution_count": 196,
   "metadata": {},
   "outputs": [
    {
     "name": "stdout",
     "output_type": "stream",
     "text": [
      "unique :  [ 0  1  2  3  4  5  6  7  8 13 14 18]\n",
      "intersect1d :  [ 0  2  3  5  6 14 18]\n",
      "union1d :  [ 0  1  2  3  4  5  6  7  8  9 10 11 12 13 14 16 17 18 19]\n",
      "in1d :  [ True False  True  True False False  True  True  True False False False\n",
      " False False False False False  True  True  True]\n",
      "setdiff1d :  [ 1  4  7  8 13]\n",
      "setxor1d :  [ 1  4  7  8  9 10 11 12 13 16 17 19]\n"
     ]
    }
   ],
   "source": [
    "print(\"unique : \",np.unique(xarr))\n",
    "print('intersect1d : ', np.intersect1d(xarr, yarr))\n",
    "print('union1d : ', np.union1d(xarr, yarr))\n",
    "print('in1d : ', np.in1d(xarr, yarr))\n",
    "print('setdiff1d : ', np.setdiff1d(xarr, yarr))\n",
    "print('setxor1d : ', np.setxor1d(xarr, yarr))"
   ]
  },
  {
   "cell_type": "markdown",
   "metadata": {},
   "source": [
    "## 4.4 ndarrayのファイル入出力\n",
    "拡張子`.npy`で無圧縮のバイナリとして出力できる.\n",
    "\n",
    "- np.save\n",
    "- np.load\n",
    "- np.savez : 複数のndarrayを無圧縮アーカイブとして保管可能\n",
    "- np.savez_compressed : 圧縮版"
   ]
  },
  {
   "cell_type": "code",
   "execution_count": 197,
   "metadata": {},
   "outputs": [],
   "source": [
    "arr = np.arange(10)\n",
    "np.save('some_array', arr)"
   ]
  },
  {
   "cell_type": "code",
   "execution_count": 198,
   "metadata": {},
   "outputs": [
    {
     "data": {
      "text/plain": [
       "array([0, 1, 2, 3, 4, 5, 6, 7, 8, 9])"
      ]
     },
     "execution_count": 198,
     "metadata": {},
     "output_type": "execute_result"
    }
   ],
   "source": [
    "np.load('some_array.npy')"
   ]
  },
  {
   "cell_type": "code",
   "execution_count": 199,
   "metadata": {},
   "outputs": [],
   "source": [
    "np.savez('array_archive', a=arr, b=arr)"
   ]
  },
  {
   "cell_type": "code",
   "execution_count": 202,
   "metadata": {},
   "outputs": [
    {
     "data": {
      "text/plain": [
       "array([0, 1, 2, 3, 4, 5, 6, 7, 8, 9])"
      ]
     },
     "execution_count": 202,
     "metadata": {},
     "output_type": "execute_result"
    }
   ],
   "source": [
    "arch = np.load('array_archive.npz')\n",
    "arch['a']"
   ]
  },
  {
   "cell_type": "markdown",
   "metadata": {},
   "source": [
    "## 4.5 行列計算\n",
    "`numpy.linalg`モジュールは線形計算ライブラリを使用できる.\n",
    "np.dot(x,y) or x.dot(y)は同等\n",
    "\n",
    "|Functioni| Description|\n",
    "| :-- |:--|\n",
    "|diag| 正方行列の対角要素,　あるいは非対角要素を一次元配列として返す |\n",
    "| dot | 内積 |\n",
    "| trace | 対角要素の総和 |\n",
    "| det | 行列式 |\n",
    "| eig | 固有ベクトル　|\n",
    "| inv |逆行列|\n",
    "| pinv | ムーアーペンローズの擬似逆行列 |\n",
    "| qr | QR分解 |\n",
    "| svd | 特異値分解 |\n",
    "| solve | 正方行列Aに対してAx=bをxについて解く |\n",
    "| lstsq | Ax=bに対して最小二乗法による近似を求める |"
   ]
  },
  {
   "cell_type": "code",
   "execution_count": 216,
   "metadata": {},
   "outputs": [],
   "source": [
    "from numpy.linalg import inv, qr"
   ]
  },
  {
   "cell_type": "code",
   "execution_count": 217,
   "metadata": {},
   "outputs": [
    {
     "data": {
      "text/plain": [
       "array([[-0.430531  , -0.47877814, -0.25047681, -0.79166017, -0.66642223],\n",
       "       [ 0.05279717, -0.10842587,  0.15905381,  0.27822884, -0.30630292],\n",
       "       [-0.96861979,  0.84350819, -0.55513844,  2.58134307,  1.30182786],\n",
       "       [-1.1515519 ,  1.12245062,  0.65118145,  1.53915429,  0.34769771],\n",
       "       [-1.03866973, -0.02745297,  1.86349117,  1.53170839,  0.01362284]])"
      ]
     },
     "execution_count": 217,
     "metadata": {},
     "output_type": "execute_result"
    }
   ],
   "source": [
    "X = np.random.randn(5,5)\n",
    "X"
   ]
  },
  {
   "cell_type": "code",
   "execution_count": 218,
   "metadata": {},
   "outputs": [
    {
     "data": {
      "text/plain": [
       "array([[ 3.53127537, -1.88068004, -2.0314674 , -5.50817122, -1.40477431],\n",
       "       [-1.88068004,  2.21313979,  0.31417411,  4.21182112,  1.84028153],\n",
       "       [-2.0314674 ,  0.31417411,  4.29285205,  2.6661369 , -0.35268968],\n",
       "       [-5.50817122,  4.21182112,  2.6661369 , 12.08259564,  4.35884858],\n",
       "       [-1.40477431,  1.84028153, -0.35268968,  4.35884858,  2.35377513]])"
      ]
     },
     "execution_count": 218,
     "metadata": {},
     "output_type": "execute_result"
    }
   ],
   "source": [
    "mat = X.T.dot(X)\n",
    "mat"
   ]
  },
  {
   "cell_type": "code",
   "execution_count": 219,
   "metadata": {},
   "outputs": [
    {
     "data": {
      "text/plain": [
       "array([[ 1.96812947,  0.61841464, -0.18457335,  1.45521317, -2.0313879 ],\n",
       "       [ 0.61841464,  1.83529352,  0.02486763,  0.05975458, -1.17276045],\n",
       "       [-0.18457335,  0.02486763,  0.6913169 , -0.71089885,  1.29046882],\n",
       "       [ 1.45521317,  0.05975458, -0.71089885,  1.88038278, -2.76693793],\n",
       "       [-2.0313879 , -1.17276045,  1.29046882, -2.76693793,  5.44672523]])"
      ]
     },
     "execution_count": 219,
     "metadata": {},
     "output_type": "execute_result"
    }
   ],
   "source": [
    "inv(mat)"
   ]
  },
  {
   "cell_type": "code",
   "execution_count": 220,
   "metadata": {},
   "outputs": [
    {
     "data": {
      "text/plain": [
       "array([[ 1.00000000e+00,  3.78736147e-16, -1.11513138e-15,\n",
       "        -9.05524078e-16,  3.18790720e-15],\n",
       "       [ 2.08468192e-15,  1.00000000e+00, -7.17153812e-16,\n",
       "         1.83999719e-15, -3.27500657e-15],\n",
       "       [ 6.22570108e-17, -5.03522996e-16,  1.00000000e+00,\n",
       "        -1.26678185e-15, -4.15287032e-16],\n",
       "       [ 8.13894858e-16,  2.64932122e-17,  1.10355464e-15,\n",
       "         1.00000000e+00, -2.40320171e-15],\n",
       "       [ 4.00989701e-16,  9.70002971e-16,  4.40581343e-16,\n",
       "        -5.88745791e-16,  1.00000000e+00]])"
      ]
     },
     "execution_count": 220,
     "metadata": {},
     "output_type": "execute_result"
    }
   ],
   "source": [
    "mat.dot( inv(mat) )"
   ]
  },
  {
   "cell_type": "code",
   "execution_count": 227,
   "metadata": {},
   "outputs": [
    {
     "name": "stdout",
     "output_type": "stream",
     "text": [
      "r :  [[-7.24203452  5.14030324  4.23574478 14.56280432  4.8357896 ]\n",
      " [ 0.         -1.79916825  2.96148779 -2.54122851 -2.46602828]\n",
      " [ 0.          0.         -1.78181821 -0.26729702  0.26436234]\n",
      " [ 0.          0.          0.         -1.25371136 -0.68243265]\n",
      " [ 0.          0.          0.          0.          0.14992323]]\n",
      "q :  [[-0.48760819 -0.3478129  -0.59712047 -0.43813186 -0.30455223]\n",
      " [ 0.25968946 -0.48814624 -0.37031553  0.72541502 -0.17582403]\n",
      " [ 0.28051059  0.6268093  -0.70062853  0.0106039   0.19347125]\n",
      " [ 0.7605834  -0.16796196  0.03259759 -0.46920847 -0.41482826]\n",
      " [ 0.19397509 -0.46865586 -0.11987752 -0.24808162  0.81659062]]\n",
      "QR :  [[ 3.53127537 -1.88068004 -2.0314674  -5.50817122 -1.40477431]\n",
      " [-1.88068004  2.21313979  0.31417411  4.21182112  1.84028153]\n",
      " [-2.0314674   0.31417411  4.29285205  2.6661369  -0.35268968]\n",
      " [-5.50817122  4.21182112  2.6661369  12.08259564  4.35884858]\n",
      " [-1.40477431  1.84028153 -0.35268968  4.35884858  2.35377513]]\n",
      "Original :  [[ 3.53127537 -1.88068004 -2.0314674  -5.50817122 -1.40477431]\n",
      " [-1.88068004  2.21313979  0.31417411  4.21182112  1.84028153]\n",
      " [-2.0314674   0.31417411  4.29285205  2.6661369  -0.35268968]\n",
      " [-5.50817122  4.21182112  2.6661369  12.08259564  4.35884858]\n",
      " [-1.40477431  1.84028153 -0.35268968  4.35884858  2.35377513]]\n"
     ]
    }
   ],
   "source": [
    "q, r = qr(mat)\n",
    "print('r : ', r)\n",
    "print('q : ', q)\n",
    "print('QR : ', np.dot(q,r))\n",
    "print('Original : ',mat)"
   ]
  },
  {
   "cell_type": "markdown",
   "metadata": {},
   "source": [
    "## 4.6 擬似乱数整数\n",
    "\n",
    "np.random関数一覧\n",
    "\n",
    "|Function|Description|\n",
    "|:--|:--|\n",
    "| seed |シード|\n",
    "| permutation | 引数が配列=> その要素をランダムに並べ替える, 整数=> np.arangeを呼び出しランダム|\n",
    "| shuffle | その配列自体の要素をランダム |\n",
    "| rand, randint, randn |  |\n",
    "| binomial | 二項分布 |\n",
    "| normal | 正規分布 |\n",
    "| beta | |\n",
    "| chisquare | カイ二乗分布 |\n",
    "| gamma | ガンマ分布  |\n",
    "| uniform | [0,1)の一様分布|"
   ]
  },
  {
   "cell_type": "markdown",
   "metadata": {},
   "source": [
    "## 4.7 ランダムウォーク\n",
    "Python標準"
   ]
  },
  {
   "cell_type": "code",
   "execution_count": 228,
   "metadata": {},
   "outputs": [],
   "source": [
    "import random\n",
    "position = 0\n",
    "walk = [position]\n",
    "steps = 1000\n",
    "for i in range(steps):\n",
    "    step = 1 if random.randint(0,1) else -1\n",
    "    position += step\n",
    "    walk.append(position)"
   ]
  },
  {
   "cell_type": "code",
   "execution_count": 230,
   "metadata": {},
   "outputs": [
    {
     "data": {
      "text/plain": [
       "[<matplotlib.lines.Line2D at 0x11ce5db70>]"
      ]
     },
     "execution_count": 230,
     "metadata": {},
     "output_type": "execute_result"
    },
    {
     "data": {
      "image/png": "[encoded data removed]",
      "text/plain": [
       "<Figure size 432x288 with 1 Axes>"
      ]
     },
     "metadata": {
      "needs_background": "light"
     },
     "output_type": "display_data"
    }
   ],
   "source": [
    "plt.plot(walk)"
   ]
  },
  {
   "cell_type": "code",
   "execution_count": 231,
   "metadata": {},
   "outputs": [],
   "source": [
    "nsteps = 1000\n",
    "draws = np.random.randint(0,2, size=nsteps)\n",
    "steps = np.where(draws > 0, 1, -1)\n",
    "walk = steps.cumsum()"
   ]
  },
  {
   "cell_type": "code",
   "execution_count": 232,
   "metadata": {},
   "outputs": [
    {
     "name": "stdout",
     "output_type": "stream",
     "text": [
      "-15 26\n"
     ]
    }
   ],
   "source": [
    "print(walk.min(), walk.max())"
   ]
  },
  {
   "cell_type": "markdown",
   "metadata": {},
   "source": [
    "はじめに原点から距離10に初めて到達した時刻\n",
    "\n",
    "argmax()は全スキャンが発生することに注意"
   ]
  },
  {
   "cell_type": "code",
   "execution_count": 235,
   "metadata": {},
   "outputs": [
    {
     "name": "stdout",
     "output_type": "stream",
     "text": [
      "[False False False False False False False False False False False False\n",
      " False False False False False False False False False False False False\n",
      " False False False False False False False False False False False False\n",
      " False False False False False False False False False False False False\n",
      " False False False False False False False False False False False False\n",
      " False False False False False False False False False False False  True\n",
      " False False False False False  True  True  True False False False False\n",
      " False False False False False False False False False False False False\n",
      " False False False False False False False False False False False False\n",
      " False False False False False False False False False False False False\n",
      " False False False False False False False False False False False False\n",
      " False False False False False False False False False False False False\n",
      " False False False False False False False False False False False False\n",
      " False False False False False False False False False False False False\n",
      " False False False False False False False False False False False False\n",
      " False False False False False False False False False False False False\n",
      " False False False False False False False False False False False  True\n",
      " False  True  True  True  True  True  True  True  True  True  True  True\n",
      "  True  True  True  True  True  True  True  True  True  True  True  True\n",
      " False  True False False False  True  True  True  True  True  True  True\n",
      "  True  True  True  True  True  True False  True False False False  True\n",
      " False  True False False False False False False False False False False\n",
      " False False False False False False False  True False  True  True  True\n",
      "  True  True  True  True False  True False  True False False False False\n",
      " False False False False False False False False False False False False\n",
      " False False False False False False False False False False False False\n",
      " False False False False False False False False False False False False\n",
      " False False False False False False False False False False False False\n",
      " False False False False False False False False False False False False\n",
      " False False False False False False False False False False False False\n",
      " False False False False False False False False False False False False\n",
      " False False False False False False False False False False False False\n",
      " False False False False False False False False False False False False\n",
      " False False False False False False False False False False False False\n",
      " False False False False False False False False False False False False\n",
      " False False False False False False False False False False False False\n",
      " False  True  True  True  True  True  True  True  True  True  True  True\n",
      "  True  True  True  True  True  True  True  True False False False  True\n",
      "  True  True  True  True  True  True  True  True  True  True  True  True\n",
      "  True  True  True  True False  True  True  True False False False False\n",
      " False False False False False False False False False False False False\n",
      " False False False False False False False False False False False False\n",
      " False False False False False False False False False False False False\n",
      " False False False False False False False False False False False False\n",
      " False False False False False False False False False False False False\n",
      " False False False False False False False False False False False False\n",
      " False False False False False False False False False False False False\n",
      " False False False False False False False False False False False False\n",
      " False False False False False False False False False False False False\n",
      " False False False False False False False False False False False False\n",
      " False False False False False False False False False False False False\n",
      " False False False False False False False False False False False False\n",
      " False False False False False False False False False False False False\n",
      " False False False False False False False False False False False False\n",
      " False False False False False False False False False False False False\n",
      " False False False False False False False False False False False False\n",
      " False False False False False False False False False False False False\n",
      " False False False False False  True False  True  True  True  True  True\n",
      "  True  True  True  True  True  True  True  True  True  True  True  True\n",
      "  True  True  True  True  True  True  True  True  True  True  True  True\n",
      "  True  True  True  True  True  True  True  True  True  True  True  True\n",
      "  True  True  True  True  True  True  True  True  True  True  True  True\n",
      "  True  True  True  True  True  True  True  True  True  True  True  True\n",
      "  True  True  True  True  True  True  True  True  True  True  True  True\n",
      "  True  True  True  True  True  True  True  True  True  True  True  True\n",
      "  True  True  True  True  True  True  True  True  True  True  True  True\n",
      "  True  True  True  True  True  True  True  True  True  True  True  True\n",
      "  True  True  True  True  True  True  True  True  True  True  True  True\n",
      "  True  True  True  True  True  True  True  True  True  True  True  True\n",
      "  True  True  True  True  True  True  True  True  True  True  True  True\n",
      "  True  True  True  True  True  True  True  True  True  True  True  True\n",
      "  True  True  True  True  True  True  True  True  True  True  True  True\n",
      "  True  True  True  True  True  True  True  True  True  True  True  True\n",
      "  True  True  True  True  True  True  True  True  True  True  True  True\n",
      "  True  True  True  True  True  True  True  True  True  True  True  True\n",
      "  True  True  True  True  True  True  True  True  True  True  True  True\n",
      "  True  True  True  True  True  True  True  True  True  True  True  True\n",
      "  True  True  True  True  True  True  True  True  True  True  True  True\n",
      "  True  True False False False False False False False False False False\n",
      " False False False False False False False False False False False False\n",
      " False False False False False False False False False False False False\n",
      " False False False False False False False False False False False False\n",
      " False False False False False False False False False False False False\n",
      " False False False False]\n",
      "71\n"
     ]
    }
   ],
   "source": [
    "print(np.abs(walk) >= 10)\n",
    "print((np.abs(walk) >= 10).argmax())"
   ]
  },
  {
   "cell_type": "markdown",
   "metadata": {},
   "source": [
    "## 4.7.1 多重ランダムウォーク\n",
    "ランダムウォークを5000会思考する."
   ]
  },
  {
   "cell_type": "code",
   "execution_count": 236,
   "metadata": {},
   "outputs": [],
   "source": [
    "nwalks = 5000\n",
    "nsteps = 1000\n",
    "draws = np.random.randint(0, 2, size=(nwalks, nsteps))\n",
    "steps = np.where(draws > 0, 1, -1)\n",
    "walks = steps.cumsum(1)"
   ]
  },
  {
   "cell_type": "code",
   "execution_count": 237,
   "metadata": {},
   "outputs": [
    {
     "data": {
      "text/plain": [
       "array([[  1,   0,   1, ...,  16,  15,  16],\n",
       "       [ -1,  -2,  -3, ..., -12, -11, -10],\n",
       "       [  1,   0,   1, ..., -32, -31, -32],\n",
       "       ...,\n",
       "       [  1,   2,   3, ...,  38,  39,  38],\n",
       "       [  1,   2,   3, ...,  44,  43,  42],\n",
       "       [  1,   0,  -1, ...,  38,  39,  40]])"
      ]
     },
     "execution_count": 237,
     "metadata": {},
     "output_type": "execute_result"
    }
   ],
   "source": [
    "walks"
   ]
  },
  {
   "cell_type": "code",
   "execution_count": 238,
   "metadata": {},
   "outputs": [
    {
     "name": "stdout",
     "output_type": "stream",
     "text": [
      "-122 126\n"
     ]
    }
   ],
   "source": [
    "print(walks.min(), walks.max())"
   ]
  },
  {
   "cell_type": "markdown",
   "metadata": {},
   "source": [
    "距離30に初到達時間を求める.\n",
    "`any`を使用する"
   ]
  },
  {
   "cell_type": "code",
   "execution_count": 240,
   "metadata": {},
   "outputs": [
    {
     "data": {
      "text/plain": [
       "array([False,  True,  True, ...,  True,  True,  True])"
      ]
     },
     "execution_count": 240,
     "metadata": {},
     "output_type": "execute_result"
    }
   ],
   "source": [
    "hits30 = (np.abs(walks) >= 30).any(1)\n",
    "hits30"
   ]
  },
  {
   "cell_type": "code",
   "execution_count": 241,
   "metadata": {},
   "outputs": [
    {
     "data": {
      "text/plain": [
       "3397"
      ]
     },
     "execution_count": 241,
     "metadata": {},
     "output_type": "execute_result"
    }
   ],
   "source": [
    "hits30.sum()"
   ]
  },
  {
   "cell_type": "code",
   "execution_count": 243,
   "metadata": {},
   "outputs": [
    {
     "data": {
      "text/plain": [
       "507.5151604356785"
      ]
     },
     "execution_count": 243,
     "metadata": {},
     "output_type": "execute_result"
    }
   ],
   "source": [
    "crossing_times = (np.abs(walks[hits30]) >= 30).argmax(1)\n",
    "crossing_times.mean()"
   ]
  },
  {
   "cell_type": "code",
   "execution_count": 245,
   "metadata": {},
   "outputs": [
    {
     "data": {
      "text/plain": [
       "array([[-0.26755687,  0.23304448,  0.26950869, ...,  0.20841652,\n",
       "        -0.20230443, -0.45358057],\n",
       "       [-0.0094583 ,  0.32797111, -0.160129  , ...,  0.34017839,\n",
       "        -0.44730078, -0.0372502 ],\n",
       "       [-0.28448013, -0.13195405, -0.25321706, ..., -0.1748281 ,\n",
       "         0.03763602, -0.03277826],\n",
       "       ...,\n",
       "       [ 0.15337903,  0.22941519, -0.69997571, ..., -0.02756437,\n",
       "        -0.49580907, -0.38368892],\n",
       "       [-0.23925434, -0.13861165,  0.18281269, ...,  0.0479303 ,\n",
       "         0.23867634, -0.30642628],\n",
       "       [-0.32013634, -0.51764194,  0.34592601, ..., -0.12294867,\n",
       "         0.01415126,  0.06829186]])"
      ]
     },
     "execution_count": 245,
     "metadata": {},
     "output_type": "execute_result"
    }
   ],
   "source": [
    "steps = np.random.normal(loc = 0, scale=0.25, size=(nwalks, nsteps))\n",
    "steps"
   ]
  },
  {
   "cell_type": "code",
   "execution_count": null,
   "metadata": {},
   "outputs": [],
   "source": []
  }
 ],
 "metadata": {
  "kernelspec": {
   "display_name": "'Python Interactive'",
   "language": "python",
   "name": "d7f1316a-0712-4c5b-b810-7157d63922e5"
  },
  "language_info": {
   "codemirror_mode": {
    "name": "ipython",
    "version": 3
   },
   "file_extension": ".py",
   "mimetype": "text/x-python",
   "name": "python",
   "nbconvert_exporter": "python",
   "pygments_lexer": "ipython3",
   "version": "3.7.1"
  }
 },
 "nbformat": 4,
 "nbformat_minor": 2
}
