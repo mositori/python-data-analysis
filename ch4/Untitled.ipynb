{
 "cells": [
  {
   "cell_type": "code",
   "execution_count": 1,
   "metadata": {},
   "outputs": [],
   "source": [
    "import numpy as np"
   ]
  },
  {
   "cell_type": "code",
   "execution_count": 4,
   "metadata": {},
   "outputs": [],
   "source": [
    "data1 = [1,2,3]\n",
    "data2 = [[1,2,3],[4,5,6]]"
   ]
  },
  {
   "cell_type": "code",
   "execution_count": 5,
   "metadata": {},
   "outputs": [],
   "source": [
    "arr1 = np.array(data1)\n",
    "arr2 = np.array(data2)"
   ]
  },
  {
   "cell_type": "markdown",
   "metadata": {},
   "source": [
    "## 4.1.1 ndarrayの生成\n",
    "### ndim \n",
    "return 配列の次元数\n",
    "\n",
    "### shape\n",
    "return 配列の次元ごとの要素数を格納するタプル\n",
    "\n",
    "### dtype\n",
    "return 要素の型\n",
    "\n",
    "### ndarray生成関数\n",
    "### array\n",
    "省略\n",
    "\n",
    "### asarray\n",
    "arrayと同様だが、入力がndarrayだった場合は新規に変数を生成しない.\n",
    "\n",
    "### zeros, zeros_like\n",
    "指定されたサイズのndarrayを生成し、すべての要素に0を設定する　\n",
    "\n",
    "### ones, ones_like\n",
    "指定されたサイズのndarrayを生成し、すべての要素に1を設定する\n",
    "\n",
    "### empty, empty_like\n",
    "onesと同様にndarrayを生成するが, 各要素は初期化されず不定のまま.\n",
    "=> 配列の領域のみをメモリ上に確保するだけ、値は不明になる.\n",
    "=> 実行速度が高速なため、明示的な初期化が必要ない場面に使う.\n",
    "\n",
    "### arange\n",
    "range関数と同等の動作で、等間隔に増減させた値で要素を満たす\n",
    "\n",
    "### full, full_like\n",
    "指定されたサイズのndarrayを指定されたdtypeで生成, 要素を全て指定された値で埋める.\n",
    "\n",
    "### eye, identity\n",
    "N x Nの単位行列となるndarrayを生成する."
   ]
  },
  {
   "cell_type": "code",
   "execution_count": 22,
   "metadata": {},
   "outputs": [
    {
     "name": "stdout",
     "output_type": "stream",
     "text": [
      "[2.68156159e+154 2.68156159e+154 1.48219694e-323]\n",
      "[ True  True  True]\n",
      "[-2.68156159e+154-2.68156159e+154j  2.47032823e-323+0.00000000e+000j\n",
      "  0.00000000e+000+0.00000000e+000j -2.68156159e+154-2.68156159e+154j]\n"
     ]
    }
   ],
   "source": [
    "print(np.empty(3))\n",
    "print(np.empty(3, dtype= np.bool)) #bool値にもできる\n",
    "print(np.empty(4, dtype= complex)) #複素数にもできる"
   ]
  },
  {
   "cell_type": "markdown",
   "metadata": {},
   "source": [
    "## 4.1.2 ndarrayのデータ型\n",
    "dtypeはndarrayの$データ型$. 以下リスト\n",
    "\n",
    "|型|型コード|説明|\n",
    "|:----|:----|:----|\n",
    "|int8/16/32/64|i1/i2/i4/i8| |\n",
    "|float16/32/64/128| f2/f/d/g| |\n",
    "|complex64/128/256 | c8/c16/c32 |複素数型 |\n",
    "|bool|?||\n",
    "|object|O|Pythonのオブジェクト型|\n",
    "|string_|S||\n",
    "|unicode_|U||\n",
    "\n",
    "### astype\n",
    "dtypeを明示的に型変換する\n",
    "(必ず新規ndarrayが生成されることに注意)"
   ]
  },
  {
   "cell_type": "code",
   "execution_count": 32,
   "metadata": {},
   "outputs": [
    {
     "name": "stdout",
     "output_type": "stream",
     "text": [
      "int64 [0 1 2 3 4 5]\n",
      "float64 [0. 1. 2. 3. 4. 5.]\n",
      "complex64 [0.+0.j 1.+0.j 2.+0.j 3.+0.j 4.+0.j 5.+0.j]\n",
      "bool [False  True  True  True  True  True]\n"
     ]
    }
   ],
   "source": [
    "arr = np.array([0,1,2,3,4,5])\n",
    "print(arr.dtype, arr)\n",
    "arr = arr.astype(np.float64)\n",
    "print(arr.dtype, arr)\n",
    "arr = arr.astype(np.complex64)\n",
    "print(arr.dtype, arr)\n",
    "arr = arr.astype(np.bool)\n",
    "print(arr.dtype, arr)"
   ]
  },
  {
   "cell_type": "markdown",
   "metadata": {},
   "source": [
    "## 4.1.3 ndarrayの算術演算\n",
    "ndarray間を比較した時、その結果は同要素数の真偽値配列として戻される.\n",
    "サイズの異なるndarray同士の演算は**ブロードキャスト**と呼ばれる"
   ]
  },
  {
   "cell_type": "code",
   "execution_count": 48,
   "metadata": {},
   "outputs": [
    {
     "data": {
      "text/plain": [
       "array([ True, False,  True, False])"
      ]
     },
     "execution_count": 48,
     "metadata": {},
     "output_type": "execute_result"
    }
   ],
   "source": [
    "arr1 = np.array([1,2,3,4])\n",
    "arr2 = np.array([2,1,4,3])\n",
    "\n",
    "arr1 < arr2"
   ]
  },
  {
   "cell_type": "markdown",
   "metadata": {},
   "source": [
    "## 4.1.4 インデックス参照とスライシングの基礎\n",
    "### 一次次元の場合"
   ]
  },
  {
   "cell_type": "code",
   "execution_count": 49,
   "metadata": {},
   "outputs": [
    {
     "name": "stdout",
     "output_type": "stream",
     "text": [
      "[0 1 2 3 4 5 6 7 8 9]\n"
     ]
    }
   ],
   "source": [
    "arr = np.arange(10)\n",
    "print(arr)"
   ]
  },
  {
   "cell_type": "code",
   "execution_count": 50,
   "metadata": {},
   "outputs": [
    {
     "data": {
      "text/plain": [
       "4"
      ]
     },
     "execution_count": 50,
     "metadata": {},
     "output_type": "execute_result"
    }
   ],
   "source": [
    "arr[4]"
   ]
  },
  {
   "cell_type": "code",
   "execution_count": 51,
   "metadata": {},
   "outputs": [
    {
     "data": {
      "text/plain": [
       "array([4, 5, 6, 7])"
      ]
     },
     "execution_count": 51,
     "metadata": {},
     "output_type": "execute_result"
    }
   ],
   "source": [
    "arr[4:8]"
   ]
  },
  {
   "cell_type": "code",
   "execution_count": 53,
   "metadata": {},
   "outputs": [
    {
     "name": "stdout",
     "output_type": "stream",
     "text": [
      "[ 0  1  2  3 12 12 12 12  8  9]\n"
     ]
    }
   ],
   "source": [
    "arr[4:8] = 12\n",
    "print(arr)"
   ]
  },
  {
   "cell_type": "markdown",
   "metadata": {},
   "source": [
    "リストと異なり, ndarrayのスライシングは切り出された元のndarrayの**ビュー**であり、値の変更はオリジナルに反映される.(**ブロードキャスト**)"
   ]
  },
  {
   "cell_type": "code",
   "execution_count": 57,
   "metadata": {},
   "outputs": [
    {
     "name": "stdout",
     "output_type": "stream",
     "text": [
      "[8 9]\n"
     ]
    }
   ],
   "source": [
    "arr_slice = arr[8:10]\n",
    "print(arr_slice)"
   ]
  },
  {
   "cell_type": "code",
   "execution_count": 58,
   "metadata": {},
   "outputs": [
    {
     "name": "stdout",
     "output_type": "stream",
     "text": [
      "[  0   1   2   3  12  12  12  12   8 114] [  8 114]\n"
     ]
    }
   ],
   "source": [
    "arr_slice[1] = 114\n",
    "print(arr, arr_slice)"
   ]
  },
  {
   "cell_type": "markdown",
   "metadata": {},
   "source": [
    "ビューではなくコピーにしたい場合は明示的にcopy()をつける"
   ]
  },
  {
   "cell_type": "code",
   "execution_count": 61,
   "metadata": {},
   "outputs": [
    {
     "name": "stdout",
     "output_type": "stream",
     "text": [
      "[ 0  1  2  3 12 12]\n"
     ]
    }
   ],
   "source": [
    "arr_slice_copy = arr[0:6].copy() \n",
    "print(arr_slice_copy)"
   ]
  },
  {
   "cell_type": "code",
   "execution_count": 65,
   "metadata": {},
   "outputs": [
    {
     "name": "stdout",
     "output_type": "stream",
     "text": [
      "[  0   1   2   3  12  12  12  12   8 114] [0 0 0 0 0 0]\n"
     ]
    }
   ],
   "source": [
    "arr_slice_copy[:] = 0\n",
    "print(arr, arr_slice_copy)"
   ]
  },
  {
   "cell_type": "markdown",
   "metadata": {},
   "source": [
    "### N次元の場合\n",
    "インデックス参照の手段が増える.\n",
    "\n",
    "N = 2の場合, arr2d[0][1] または arr2d[0,1]で参照できる"
   ]
  },
  {
   "cell_type": "markdown",
   "metadata": {},
   "source": [
    "## ブールインデックス参照\n",
    "参照されたndarrayはコピーされたものであることに注意"
   ]
  },
  {
   "cell_type": "code",
   "execution_count": 66,
   "metadata": {},
   "outputs": [],
   "source": [
    "names = np.array(['Bob', 'Joe', 'Will', 'Bob', 'Will', 'Joe', 'Joe'])\n",
    "data = np.random.randn(7,4)"
   ]
  },
  {
   "cell_type": "code",
   "execution_count": 67,
   "metadata": {},
   "outputs": [
    {
     "data": {
      "text/plain": [
       "array(['Bob', 'Joe', 'Will', 'Bob', 'Will', 'Joe', 'Joe'], dtype='<U4')"
      ]
     },
     "execution_count": 67,
     "metadata": {},
     "output_type": "execute_result"
    }
   ],
   "source": [
    "names"
   ]
  },
  {
   "cell_type": "code",
   "execution_count": 68,
   "metadata": {},
   "outputs": [
    {
     "data": {
      "text/plain": [
       "array([[-0.26137137, -0.27578319,  0.58236428, -0.63574719],\n",
       "       [ 0.66365135,  0.56309523,  0.15481779,  0.05725008],\n",
       "       [ 0.24389413,  1.51016652,  1.12187462,  0.09847997],\n",
       "       [-0.66903941, -0.76626678, -0.40104834,  1.45914701],\n",
       "       [-1.96764149, -0.16878813,  0.68619478, -1.04238164],\n",
       "       [ 0.15220784,  1.5688388 , -0.56420524, -0.88325396],\n",
       "       [-0.21069243, -0.84428861,  1.00826331,  0.08022791]])"
      ]
     },
     "execution_count": 68,
     "metadata": {},
     "output_type": "execute_result"
    }
   ],
   "source": [
    "data"
   ]
  },
  {
   "cell_type": "markdown",
   "metadata": {},
   "source": [
    "dataから'Bob'に対応する行を抜き出す"
   ]
  },
  {
   "cell_type": "code",
   "execution_count": 69,
   "metadata": {},
   "outputs": [
    {
     "data": {
      "text/plain": [
       "array([ True, False, False,  True, False, False, False])"
      ]
     },
     "execution_count": 69,
     "metadata": {},
     "output_type": "execute_result"
    }
   ],
   "source": [
    "names == 'Bob'"
   ]
  },
  {
   "cell_type": "code",
   "execution_count": 70,
   "metadata": {},
   "outputs": [
    {
     "data": {
      "text/plain": [
       "array([[-0.26137137, -0.27578319,  0.58236428, -0.63574719],\n",
       "       [-0.66903941, -0.76626678, -0.40104834,  1.45914701]])"
      ]
     },
     "execution_count": 70,
     "metadata": {},
     "output_type": "execute_result"
    }
   ],
   "source": [
    "data[ names == 'Bob' ]"
   ]
  },
  {
   "cell_type": "markdown",
   "metadata": {},
   "source": [
    "列のスライスも同時に指定"
   ]
  },
  {
   "cell_type": "code",
   "execution_count": 71,
   "metadata": {},
   "outputs": [
    {
     "data": {
      "text/plain": [
       "array([[ 0.58236428, -0.63574719],\n",
       "       [-0.40104834,  1.45914701]])"
      ]
     },
     "execution_count": 71,
     "metadata": {},
     "output_type": "execute_result"
    }
   ],
   "source": [
    "data[names == 'Bob', 2:]"
   ]
  },
  {
   "cell_type": "code",
   "execution_count": 72,
   "metadata": {},
   "outputs": [
    {
     "data": {
      "text/plain": [
       "array([-0.63574719,  1.45914701])"
      ]
     },
     "execution_count": 72,
     "metadata": {},
     "output_type": "execute_result"
    }
   ],
   "source": [
    "data[names == 'Bob',3]"
   ]
  },
  {
   "cell_type": "code",
   "execution_count": 73,
   "metadata": {},
   "outputs": [
    {
     "data": {
      "text/plain": [
       "array([-0.26137137, -0.27578319, -0.63574719, -0.66903941, -0.76626678,\n",
       "       -0.40104834, -1.96764149, -0.16878813, -1.04238164, -0.56420524,\n",
       "       -0.88325396, -0.21069243, -0.84428861])"
      ]
     },
     "execution_count": 73,
     "metadata": {},
     "output_type": "execute_result"
    }
   ],
   "source": [
    "data[data < 0]"
   ]
  },
  {
   "cell_type": "code",
   "execution_count": 75,
   "metadata": {},
   "outputs": [
    {
     "name": "stdout",
     "output_type": "stream",
     "text": [
      "[[0.         0.         0.58236428 0.        ]\n",
      " [0.66365135 0.56309523 0.15481779 0.05725008]\n",
      " [0.24389413 1.51016652 1.12187462 0.09847997]\n",
      " [0.         0.         0.         1.45914701]\n",
      " [0.         0.         0.68619478 0.        ]\n",
      " [0.15220784 1.5688388  0.         0.        ]\n",
      " [0.         0.         1.00826331 0.08022791]]\n"
     ]
    }
   ],
   "source": [
    "data[data < 0 ] = 0\n",
    "print(data)"
   ]
  },
  {
   "cell_type": "markdown",
   "metadata": {},
   "source": [
    "## 4.1.6 ファンシーインデックス参照\n",
    "インデックス参照に整数配列を用いる方法のこと\n",
    "\n",
    "arr からある特定の順序で行を抽出するには、その順番を示す**整数のリスト**あるいは**ndarray**をインデックス参照として渡す.\n",
    "\n",
    "この参照の場合は必ず**一次元配列として返される**"
   ]
  },
  {
   "cell_type": "code",
   "execution_count": 77,
   "metadata": {},
   "outputs": [
    {
     "name": "stdout",
     "output_type": "stream",
     "text": [
      "[[0. 0. 0. 0.]\n",
      " [1. 1. 1. 1.]\n",
      " [2. 2. 2. 2.]\n",
      " [3. 3. 3. 3.]\n",
      " [4. 4. 4. 4.]\n",
      " [5. 5. 5. 5.]\n",
      " [6. 6. 6. 6.]\n",
      " [7. 7. 7. 7.]]\n"
     ]
    }
   ],
   "source": [
    "arr = np.empty((8,4))\n",
    "for i in range(8):\n",
    "    arr[i] = i\n",
    "print(arr)"
   ]
  },
  {
   "cell_type": "code",
   "execution_count": 78,
   "metadata": {},
   "outputs": [
    {
     "data": {
      "text/plain": [
       "array([[4., 4., 4., 4.],\n",
       "       [3., 3., 3., 3.],\n",
       "       [0., 0., 0., 0.],\n",
       "       [6., 6., 6., 6.]])"
      ]
     },
     "execution_count": 78,
     "metadata": {},
     "output_type": "execute_result"
    }
   ],
   "source": [
    "arr[[4,3,0,6]]"
   ]
  },
  {
   "cell_type": "code",
   "execution_count": 79,
   "metadata": {},
   "outputs": [
    {
     "data": {
      "text/plain": [
       "array([[5., 5., 5., 5.],\n",
       "       [3., 3., 3., 3.],\n",
       "       [1., 1., 1., 1.]])"
      ]
     },
     "execution_count": 79,
     "metadata": {},
     "output_type": "execute_result"
    }
   ],
   "source": [
    "arr[[-3,-5,-7]]"
   ]
  },
  {
   "cell_type": "code",
   "execution_count": 81,
   "metadata": {},
   "outputs": [
    {
     "name": "stdout",
     "output_type": "stream",
     "text": [
      "[[ 0  1  2  3]\n",
      " [ 4  5  6  7]\n",
      " [ 8  9 10 11]\n",
      " [12 13 14 15]\n",
      " [16 17 18 19]\n",
      " [20 21 22 23]\n",
      " [24 25 26 27]\n",
      " [28 29 30 31]]\n"
     ]
    }
   ],
   "source": [
    "arr = np.arange(32).reshape((8,4))\n",
    "print(arr)"
   ]
  },
  {
   "cell_type": "code",
   "execution_count": 82,
   "metadata": {},
   "outputs": [
    {
     "data": {
      "text/plain": [
       "array([ 4, 23, 29, 10])"
      ]
     },
     "execution_count": 82,
     "metadata": {},
     "output_type": "execute_result"
    }
   ],
   "source": [
    "arr[[1,5,7,2],[0,3,1,2]]"
   ]
  },
  {
   "cell_type": "code",
   "execution_count": 83,
   "metadata": {},
   "outputs": [
    {
     "data": {
      "text/plain": [
       "array([[ 4,  7,  5,  6],\n",
       "       [20, 23, 21, 22],\n",
       "       [ 8, 11,  9, 10],\n",
       "       [28, 31, 29, 30]])"
      ]
     },
     "execution_count": 83,
     "metadata": {},
     "output_type": "execute_result"
    }
   ],
   "source": [
    "arr[[1,5,2,7]][:,[0,3,1,2]]"
   ]
  },
  {
   "cell_type": "markdown",
   "metadata": {},
   "source": [
    "## 4.1.7 転置行列\n",
    "ndarrayの転置は、オリジナル行列を再構成した特別なビューを戻す.コピーは生成しない.\n",
    "\n",
    "方法\n",
    "1. transpose関数\n",
    "2. Tを参照\n",
    "3. swapaxes関数\n",
    "\n",
    "a.swapaxes(axis1, axis2)\n",
    "\n",
    "Return a view of the array with `axis1` and `axis2` interchanged."
   ]
  },
  {
   "cell_type": "code",
   "execution_count": 85,
   "metadata": {},
   "outputs": [
    {
     "name": "stdout",
     "output_type": "stream",
     "text": [
      "[[ 0  1  2  3  4]\n",
      " [ 5  6  7  8  9]\n",
      " [10 11 12 13 14]]\n"
     ]
    }
   ],
   "source": [
    "arr = np.arange(15).reshape((3,5))\n",
    "print(arr)"
   ]
  },
  {
   "cell_type": "code",
   "execution_count": 86,
   "metadata": {},
   "outputs": [
    {
     "data": {
      "text/plain": [
       "array([[ 0,  5, 10],\n",
       "       [ 1,  6, 11],\n",
       "       [ 2,  7, 12],\n",
       "       [ 3,  8, 13],\n",
       "       [ 4,  9, 14]])"
      ]
     },
     "execution_count": 86,
     "metadata": {},
     "output_type": "execute_result"
    }
   ],
   "source": [
    "arr.T"
   ]
  },
  {
   "cell_type": "code",
   "execution_count": 87,
   "metadata": {},
   "outputs": [
    {
     "name": "stdout",
     "output_type": "stream",
     "text": [
      "[[-0.36643434 -1.01681266 -0.71117774]\n",
      " [-2.01407877  0.68183995 -0.05359618]\n",
      " [-0.02202998 -1.90519697 -0.29148443]\n",
      " [-0.3080216  -0.4280681   0.15453725]\n",
      " [ 1.06834786 -0.33393087  1.30559478]\n",
      " [ 0.24735576 -1.27556379  1.0120655 ]]\n"
     ]
    }
   ],
   "source": [
    "arr = np.random.randn(6,3)\n",
    "print(arr)"
   ]
  },
  {
   "cell_type": "code",
   "execution_count": 88,
   "metadata": {},
   "outputs": [
    {
     "data": {
      "text/plain": [
       "array([[ 5.48870206, -1.49913101,  1.97253708],\n",
       "       [-1.49913101,  7.05040432, -0.5511592 ],\n",
       "       [ 1.97253708, -0.5511592 ,  3.34634556]])"
      ]
     },
     "execution_count": 88,
     "metadata": {},
     "output_type": "execute_result"
    }
   ],
   "source": [
    "np.dot(arr.T, arr)"
   ]
  },
  {
   "cell_type": "markdown",
   "metadata": {},
   "source": [
    "高次元の場合,transposeの引数に軸の順序を与えることで入れ替えが可能."
   ]
  },
  {
   "cell_type": "code",
   "execution_count": 91,
   "metadata": {},
   "outputs": [
    {
     "name": "stdout",
     "output_type": "stream",
     "text": [
      "[[[ 0  1  2  3]\n",
      "  [ 4  5  6  7]]\n",
      "\n",
      " [[ 8  9 10 11]\n",
      "  [12 13 14 15]]]\n"
     ]
    }
   ],
   "source": [
    "arr = np.arange(16).reshape((2,2,4))\n",
    "print(arr)"
   ]
  },
  {
   "cell_type": "markdown",
   "metadata": {},
   "source": [
    "2番目の軸が先頭、1番目の軸が2番目, 三番目の軸はそのまま"
   ]
  },
  {
   "cell_type": "code",
   "execution_count": 93,
   "metadata": {},
   "outputs": [
    {
     "data": {
      "text/plain": [
       "array([[[ 0,  1,  2,  3],\n",
       "        [ 8,  9, 10, 11]],\n",
       "\n",
       "       [[ 4,  5,  6,  7],\n",
       "        [12, 13, 14, 15]]])"
      ]
     },
     "execution_count": 93,
     "metadata": {},
     "output_type": "execute_result"
    }
   ],
   "source": [
    "arr.transpose((1,0,2))"
   ]
  },
  {
   "cell_type": "code",
   "execution_count": 96,
   "metadata": {},
   "outputs": [
    {
     "data": {
      "text/plain": [
       "array([[[ 0,  4],\n",
       "        [ 1,  5],\n",
       "        [ 2,  6],\n",
       "        [ 3,  7]],\n",
       "\n",
       "       [[ 8, 12],\n",
       "        [ 9, 13],\n",
       "        [10, 14],\n",
       "        [11, 15]]])"
      ]
     },
     "execution_count": 96,
     "metadata": {},
     "output_type": "execute_result"
    }
   ],
   "source": [
    "arr.swapaxes(1,2)"
   ]
  },
  {
   "cell_type": "markdown",
   "metadata": {},
   "source": [
    "# 4.2 ユニバーサル関数\n",
    "ndarrayを対象に, 要素ごとの操作結果を戻す関数.\n",
    "\n",
    "- 単項ufunc\n",
    "\n",
    "|Function|Description|\n",
    "|:--|:--|\n",
    "|abs, fabs|絶対値計算, fabsは整数と小数のみ(高速)|\n",
    "| sqrt | 平方根 |\n",
    "| square | 二乗 |\n",
    "| exp | 指数 |\n",
    "| log, log10, log2, log1p| 1pは各要素に1を加えた数を真数として底eの対数計算 |\n",
    "| sign | 各要素の符号を返す 正=>1, 0 => 0, 負=>-1 |\n",
    "| ceil | 切り上げ |\n",
    "| floor | 切り下げ |\n",
    "| rint | 各要素の丸め値 |\n",
    "| modf | 整数部分と小数部分に分割, 2つの配列を返す |\n",
    "| isnan | NaNの真偽値配列 |\n",
    "| isfinite, isinf | isfiniteは有限かどうか, isinfは無限かどうか |\n",
    "| 三角関数及び逆散策関数|　|\n",
    "| logiical_not | ~arrと同等 |\n",
    "    \n",
    "- 二項ufunc\n",
    "\n",
    "|Function|Description|\n",
    "|:--|:--|\n",
    "| add/subtract/multiply/divide | 省略 |\n",
    "| floor_divide | あまりを切り捨て |\n",
    "| power | arr1を底, arr2要素でべき乗 |\n",
    "| maximum/fmax | 配列の要素ごとの最大値を計算 maximumはNaNを選ぶ|\n",
    "| minimum/fmin | |\n",
    "| mod | 余剰計算 |\n",
    "| copysign | arr1の値に,arr2の配列要素の符号をつける |"
   ]
  },
  {
   "cell_type": "code",
   "execution_count": 102,
   "metadata": {},
   "outputs": [
    {
     "name": "stdout",
     "output_type": "stream",
     "text": [
      "[0.         1.         1.41421356 1.73205081 2.         2.23606798\n",
      " 2.44948974 2.64575131 2.82842712 3.        ]\n",
      "[1.00000000e+00 2.71828183e+00 7.38905610e+00 2.00855369e+01\n",
      " 5.45981500e+01 1.48413159e+02 4.03428793e+02 1.09663316e+03\n",
      " 2.98095799e+03 8.10308393e+03]\n"
     ]
    }
   ],
   "source": [
    "arr = np.arange(10)\n",
    "print(np.sqrt(arr))\n",
    "print(np.exp(arr))"
   ]
  },
  {
   "cell_type": "code",
   "execution_count": 106,
   "metadata": {},
   "outputs": [
    {
     "data": {
      "text/plain": [
       "array([[        1,         1,         4,        27,       256],\n",
       "       [     3125,     46656,    823543,  16777216, 387420489]])"
      ]
     },
     "execution_count": 106,
     "metadata": {},
     "output_type": "execute_result"
    }
   ],
   "source": [
    "arr1 = np.arange(10).reshape((2,5))\n",
    "arr2 = arr1\n",
    "np.power(arr1 ,arr2)"
   ]
  },
  {
   "cell_type": "markdown",
   "metadata": {},
   "source": [
    "# ndarrayによる配列指向プログラミング"
   ]
  }
 ],
 "metadata": {
  "kernelspec": {
   "display_name": "'Python Interactive'",
   "language": "python",
   "name": "d7f1316a-0712-4c5b-b810-7157d63922e5"
  },
  "language_info": {
   "codemirror_mode": {
    "name": "ipython",
    "version": 3
   },
   "file_extension": ".py",
   "mimetype": "text/x-python",
   "name": "python",
   "nbconvert_exporter": "python",
   "pygments_lexer": "ipython3",
   "version": "3.7.1"
  }
 },
 "nbformat": 4,
 "nbformat_minor": 2
}
